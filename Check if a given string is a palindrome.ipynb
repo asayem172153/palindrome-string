{
  "nbformat": 4,
  "nbformat_minor": 0,
  "metadata": {
    "colab": {
      "provenance": []
    },
    "kernelspec": {
      "name": "python3",
      "display_name": "Python 3"
    },
    "language_info": {
      "name": "python"
    }
  },
  "cells": [
    {
      "cell_type": "markdown",
      "source": [
        "**General Approach**"
      ],
      "metadata": {
        "id": "6JM89D04rstj"
      }
    },
    {
      "cell_type": "code",
      "execution_count": 12,
      "metadata": {
        "colab": {
          "base_uri": "https://localhost:8080/"
        },
        "id": "8vjwR18Vrdmu",
        "outputId": "5699ccc2-0e4a-4333-8fc6-8ba9cbddaca0"
      },
      "outputs": [
        {
          "output_type": "stream",
          "name": "stdout",
          "text": [
            "Enter a string to check palindrome: madam\n",
            "madam is palindrome\n"
          ]
        }
      ],
      "source": [
        "string = input('Enter a string to check palindrome: ')\n",
        "\n",
        "flag = True\n",
        "for i in range(len(string)//2): # if half of the string matches other half of the string then it's palindrome\n",
        "  if string[i] != string[-i-1]: # matching opposite index. first to last, second to second last etc. so on\n",
        "    print('Not Palindrome!!')\n",
        "    flag = False\n",
        "    break\n",
        "if flag:\n",
        "  print(string,'is palindrome')\n"
      ]
    },
    {
      "cell_type": "markdown",
      "source": [
        "**Reverse Approach**"
      ],
      "metadata": {
        "id": "jq3HFprCOs3S"
      }
    },
    {
      "cell_type": "code",
      "source": [
        "string = input('Enter a String to check Palindrome: ')\n",
        "\n",
        "rev = string[::-1]\n",
        "\n",
        "if string == rev:\n",
        "  print(string,'is Palindrome')\n",
        "else:\n",
        "  print(string,'is Not Palindrome!!')"
      ],
      "metadata": {
        "colab": {
          "base_uri": "https://localhost:8080/"
        },
        "id": "2_kExwV8O3Ea",
        "outputId": "6762dbc6-c173-48a2-8331-4318ce7fcb4a"
      },
      "execution_count": 18,
      "outputs": [
        {
          "output_type": "stream",
          "name": "stdout",
          "text": [
            "Enter a String to check Palindrome: palindrome\n",
            "palindrome is Not Palindrome!!\n"
          ]
        }
      ]
    }
  ]
}